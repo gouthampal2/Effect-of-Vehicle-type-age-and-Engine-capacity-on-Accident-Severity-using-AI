{
 "cells": [
  {
   "cell_type": "markdown",
   "id": "045a5252",
   "metadata": {},
   "source": [
    "# Effect of Vehicle type, age and Engine capacity on Accident Severity using AI\n",
    "\n",
    "*2112300*\n",
    "\n",
    "**GOUTHAM PAL (gr22096)**"
   ]
  },
  {
   "cell_type": "markdown",
   "id": "863cf59f",
   "metadata": {},
   "source": [
    "---\n",
    "## INTRODUCTION"
   ]
  },
  {
   "cell_type": "markdown",
   "id": "6546773f",
   "metadata": {},
   "source": [
    "predicting the possibility of a vehicle getting in an accident is the fundamental step which insurance companies make while fixing vehicle insurance cost. They take many attributes to consideration like age of driver, price of vehicle, age of vehicle, etc,. Like wise the government, while planning to build a road. analyse many attributes and come up with a best possible plan which can minimise the causality.\n",
    "Here we are predicting Accident severity with respect to vehicle type, vehicle age and Engine capacity. To what extent it contributes on deciding the level of severity. If this has a major impact on the model, this could be a useful guide for customers to make decision while buying a vehicle.\n",
    "we have a waste amount of data on the accident which happened on The United Kingdom(UK), can apply machine learning algorithm to make prediction.\n",
    "\n",
    "This project aims to find the impact of variables on an algorithm, By using algorithm like K-Nearest Neighbours, Random forest, Decision tree, Gaussian Naïve Bayes, Linear Regression and Support Vector Machine to find the accuracy of each model."
   ]
  },
  {
   "cell_type": "markdown",
   "id": "720ff776",
   "metadata": {},
   "source": [
    "### Data Discription"
   ]
  },
  {
   "cell_type": "markdown",
   "id": "27f39eea",
   "metadata": {},
   "source": [
    "The data have been open sourced by the UK Government, can find here http://data.gov.uk/. This consist of the details of Road Accidents which occurred between 1979 to 2015 consisting of 70 features or columns and around 250,000 incidents/observations/rows. The zip file also consist second excel file named 'Road-Accident-Safety-Data-Guide' with multiple tabs for better understanding of data and values associated with data.\n",
    "\n",
    "As this dataset contains many missing values, Rather than applying any regression or taking mean to find the missing values am just dropping the entire row/observation as the dataset massive with around 250k rows. Furthermore, there are some rows with -1 value, am converting thaem as missing values and droping those rows as well. Even after droping all those observation there will be enough amount of data to caryout our test\n"
   ]
  },
  {
   "cell_type": "markdown",
   "id": "9ada0e5b",
   "metadata": {},
   "source": [
    "## METHODS"
   ]
  },
  {
   "cell_type": "markdown",
   "id": "bc800289",
   "metadata": {},
   "source": [
    "The best way to know the effectivness of a feature on a specific outcome is:\n",
    "- Creating two datasets with possible dependent features. one which has the required feature and the outher dataset which dosn't.\n",
    "- Run both the datasets in some machine learning models.\n",
    "- while going through this modle, the datasets have to be sampled and should be split into test and training data. Here I have taken 1:3 split (where 33% of the datas are test datas and remainig 66% are train datas).\n",
    "- After applyinh the alogrithms on to the dataset we get the accuricy of the boht model.\n",
    "- by comparing accruicy of both the dataset, we can determing that the impact of the attribute on the dererminent variable.\n",
    "- If there is no much deviation in both the output, it means the vehicle infos dose not have impact on accident severity.\n",
    "\n",
    "\n",
    "** Algorithms Used:**\n",
    "- **K-Nearest Neighbors (KNN)**\n",
    "- **Linear Regression (LR)**\n",
    "- **Gaussian Naive Bayes (NB)**\n",
    "- **Decision Tree (DT)**\n",
    "- **Support Vector Machines**\n",
    "- **Random Fprest(RF)**\n",
    "\n",
    "**K-Nearest Neighbors** --\n",
    "We just label the unknown variable to the group of values that are close to and maximam in number using the classification technique. Using this method, we may discover that the accuracy of the model has somewhat increased following the addition of the vehicle component. This indicates a minimal dependence if the classification approach is used.\n",
    "\n",
    "**Linear Regression** -- \n",
    "Regression probably one of the best algorithm which gives considerabally good results in both the cases with accuricy of around 91%. in linear reegression first it takes the root mean square distance of all the points. Which discloses the liklywood the severity of the accident.\n",
    "\n",
    "**Gaussian Naïve Bayes** --\n",
    "Since Nave Bayes is a probabilistic classification technique based on applying Bayes' theorem with strong independence assumptions, applying it to this situation may not be a good idea. As a result of the fact that all of the data in this instance are interdependent, we can see that the first dataset's test run accuracy is very low—less than 10%—possibly because only a small number of features were chosen, each of which has a negligible impact on accident severity.\n",
    "\n",
    "**Decision Tree** --\n",
    "This classifier builds a decision tree to decide which class value should be assigned to each data item. We can choose the maximum number of features the model will take into account at this stage. Following the addition of the extra columns, reduced the accuracy of the model as the complixity of the tree increased making the modle more  scattred.\n",
    "\n",
    "**Random Forest** --\n",
    "A large number of decision trees are built during the training phase of the random forests or random decision forests ensemble learning approach, which is used for classification, regression, and other tasks.The mean or average forecast of each individual tree is returned for regression tasks. This modle peformed exceptionally well on both the data set giving maximum accuracy with the improvement in the second dataset, which denotes the dependancy of severity on vehicle informaiton. The tendency of decision trees to overfit their training set is corrected by random decision forests. Although they frequently outperform decision trees, gradient enhanced trees are more accurate than random forests. But data features can impact how well they work.\n"
   ]
  },
  {
   "cell_type": "markdown",
   "id": "e2737979",
   "metadata": {},
   "source": [
    "## RESULT"
   ]
  },
  {
   "cell_type": "markdown",
   "id": "b48d779e",
   "metadata": {},
   "source": [
    "**importing libraries**"
   ]
  },
  {
   "cell_type": "code",
   "execution_count": 2,
   "id": "c586f66c",
   "metadata": {},
   "outputs": [],
   "source": [
    "# Importing Libraries\n",
    "import pandas as pd\n",
    "import numpy as np\n",
    "import seaborn as sns\n",
    "# Importing matplotlib to show graphical representation of the attributes\n",
    "import matplotlib.pyplot as plt\n",
    "# to ignore/remove warnings\n",
    "import warnings\n",
    "warnings.filterwarnings('ignore')"
   ]
  },
  {
   "cell_type": "markdown",
   "id": "c7cd3186",
   "metadata": {},
   "source": [
    "## DATASET"
   ]
  },
  {
   "cell_type": "code",
   "execution_count": 3,
   "id": "67b8fff7",
   "metadata": {},
   "outputs": [],
   "source": [
    "#importing dataset(read the data from csv)\n",
    "ds = pd.read_csv(\"C:\\\\Users\\\\Dell Vostro\\\\Desktop\\\\FinalProject\\\\UK_AccidentData.csv\",decimal=',',sep=',',engine='python')\n",
    "#change file path accordingly"
   ]
  },
  {
   "cell_type": "code",
   "execution_count": 4,
   "id": "b3aeac2c",
   "metadata": {},
   "outputs": [
    {
     "data": {
      "text/html": [
       "<div>\n",
       "<style scoped>\n",
       "    .dataframe tbody tr th:only-of-type {\n",
       "        vertical-align: middle;\n",
       "    }\n",
       "\n",
       "    .dataframe tbody tr th {\n",
       "        vertical-align: top;\n",
       "    }\n",
       "\n",
       "    .dataframe thead th {\n",
       "        text-align: right;\n",
       "    }\n",
       "</style>\n",
       "<table border=\"1\" class=\"dataframe\">\n",
       "  <thead>\n",
       "    <tr style=\"text-align: right;\">\n",
       "      <th></th>\n",
       "      <th>accident_index</th>\n",
       "      <th>vehicle_reference</th>\n",
       "      <th>vehicle_type</th>\n",
       "      <th>towing_and_articulation</th>\n",
       "      <th>vehicle_manoeuvre</th>\n",
       "      <th>vehicle_location-restricted_lane</th>\n",
       "      <th>junction_location</th>\n",
       "      <th>skidding_and_overturning</th>\n",
       "      <th>hit_object_in_carriageway</th>\n",
       "      <th>vehicle_leaving_carriageway</th>\n",
       "      <th>...</th>\n",
       "      <th>age_band_of_casualty</th>\n",
       "      <th>casualty_severity</th>\n",
       "      <th>pedestrian_location</th>\n",
       "      <th>pedestrian_movement</th>\n",
       "      <th>car_passenger</th>\n",
       "      <th>bus_or_coach_passenger</th>\n",
       "      <th>pedestrian_road_maintenance_worker</th>\n",
       "      <th>casualty_type</th>\n",
       "      <th>casualty_home_area_type</th>\n",
       "      <th>casualty_imd_decile</th>\n",
       "    </tr>\n",
       "  </thead>\n",
       "  <tbody>\n",
       "    <tr>\n",
       "      <th>2</th>\n",
       "      <td>201506E098766</td>\n",
       "      <td>2</td>\n",
       "      <td>9</td>\n",
       "      <td>0</td>\n",
       "      <td>18</td>\n",
       "      <td>0</td>\n",
       "      <td>8</td>\n",
       "      <td>0</td>\n",
       "      <td>0</td>\n",
       "      <td>0</td>\n",
       "      <td>...</td>\n",
       "      <td>8.0</td>\n",
       "      <td>3.0</td>\n",
       "      <td>0.0</td>\n",
       "      <td>0.0</td>\n",
       "      <td>0.0</td>\n",
       "      <td>0.0</td>\n",
       "      <td>0.0</td>\n",
       "      <td>9.0</td>\n",
       "      <td>1.0</td>\n",
       "      <td>3.0</td>\n",
       "    </tr>\n",
       "    <tr>\n",
       "      <th>3</th>\n",
       "      <td>201506E098777</td>\n",
       "      <td>1</td>\n",
       "      <td>20</td>\n",
       "      <td>0</td>\n",
       "      <td>4</td>\n",
       "      <td>0</td>\n",
       "      <td>0</td>\n",
       "      <td>0</td>\n",
       "      <td>0</td>\n",
       "      <td>0</td>\n",
       "      <td>...</td>\n",
       "      <td>6.0</td>\n",
       "      <td>3.0</td>\n",
       "      <td>1.0</td>\n",
       "      <td>1.0</td>\n",
       "      <td>0.0</td>\n",
       "      <td>0.0</td>\n",
       "      <td>0.0</td>\n",
       "      <td>0.0</td>\n",
       "      <td>1.0</td>\n",
       "      <td>1.0</td>\n",
       "    </tr>\n",
       "    <tr>\n",
       "      <th>5</th>\n",
       "      <td>201506E098780</td>\n",
       "      <td>2</td>\n",
       "      <td>1</td>\n",
       "      <td>0</td>\n",
       "      <td>9</td>\n",
       "      <td>0</td>\n",
       "      <td>5</td>\n",
       "      <td>0</td>\n",
       "      <td>0</td>\n",
       "      <td>0</td>\n",
       "      <td>...</td>\n",
       "      <td>8.0</td>\n",
       "      <td>3.0</td>\n",
       "      <td>0.0</td>\n",
       "      <td>0.0</td>\n",
       "      <td>0.0</td>\n",
       "      <td>0.0</td>\n",
       "      <td>0.0</td>\n",
       "      <td>1.0</td>\n",
       "      <td>1.0</td>\n",
       "      <td>2.0</td>\n",
       "    </tr>\n",
       "    <tr>\n",
       "      <th>6</th>\n",
       "      <td>201506E098792</td>\n",
       "      <td>1</td>\n",
       "      <td>3</td>\n",
       "      <td>0</td>\n",
       "      <td>4</td>\n",
       "      <td>0</td>\n",
       "      <td>2</td>\n",
       "      <td>0</td>\n",
       "      <td>0</td>\n",
       "      <td>0</td>\n",
       "      <td>...</td>\n",
       "      <td>6.0</td>\n",
       "      <td>3.0</td>\n",
       "      <td>0.0</td>\n",
       "      <td>0.0</td>\n",
       "      <td>0.0</td>\n",
       "      <td>0.0</td>\n",
       "      <td>0.0</td>\n",
       "      <td>3.0</td>\n",
       "      <td>1.0</td>\n",
       "      <td>3.0</td>\n",
       "    </tr>\n",
       "    <tr>\n",
       "      <th>8</th>\n",
       "      <td>201506E098804</td>\n",
       "      <td>1</td>\n",
       "      <td>9</td>\n",
       "      <td>0</td>\n",
       "      <td>14</td>\n",
       "      <td>0</td>\n",
       "      <td>1</td>\n",
       "      <td>0</td>\n",
       "      <td>0</td>\n",
       "      <td>0</td>\n",
       "      <td>...</td>\n",
       "      <td>3.0</td>\n",
       "      <td>3.0</td>\n",
       "      <td>1.0</td>\n",
       "      <td>2.0</td>\n",
       "      <td>0.0</td>\n",
       "      <td>0.0</td>\n",
       "      <td>0.0</td>\n",
       "      <td>0.0</td>\n",
       "      <td>1.0</td>\n",
       "      <td>2.0</td>\n",
       "    </tr>\n",
       "  </tbody>\n",
       "</table>\n",
       "<p>5 rows × 70 columns</p>\n",
       "</div>"
      ],
      "text/plain": [
       "  accident_index  vehicle_reference  vehicle_type  towing_and_articulation  \\\n",
       "2  201506E098766                  2             9                        0   \n",
       "3  201506E098777                  1            20                        0   \n",
       "5  201506E098780                  2             1                        0   \n",
       "6  201506E098792                  1             3                        0   \n",
       "8  201506E098804                  1             9                        0   \n",
       "\n",
       "   vehicle_manoeuvre  vehicle_location-restricted_lane  junction_location  \\\n",
       "2                 18                                 0                  8   \n",
       "3                  4                                 0                  0   \n",
       "5                  9                                 0                  5   \n",
       "6                  4                                 0                  2   \n",
       "8                 14                                 0                  1   \n",
       "\n",
       "   skidding_and_overturning  hit_object_in_carriageway  \\\n",
       "2                         0                          0   \n",
       "3                         0                          0   \n",
       "5                         0                          0   \n",
       "6                         0                          0   \n",
       "8                         0                          0   \n",
       "\n",
       "   vehicle_leaving_carriageway  ...  age_band_of_casualty  casualty_severity  \\\n",
       "2                            0  ...                   8.0                3.0   \n",
       "3                            0  ...                   6.0                3.0   \n",
       "5                            0  ...                   8.0                3.0   \n",
       "6                            0  ...                   6.0                3.0   \n",
       "8                            0  ...                   3.0                3.0   \n",
       "\n",
       "   pedestrian_location  pedestrian_movement  car_passenger  \\\n",
       "2                  0.0                  0.0            0.0   \n",
       "3                  1.0                  1.0            0.0   \n",
       "5                  0.0                  0.0            0.0   \n",
       "6                  0.0                  0.0            0.0   \n",
       "8                  1.0                  2.0            0.0   \n",
       "\n",
       "   bus_or_coach_passenger  pedestrian_road_maintenance_worker  casualty_type  \\\n",
       "2                     0.0                                 0.0            9.0   \n",
       "3                     0.0                                 0.0            0.0   \n",
       "5                     0.0                                 0.0            1.0   \n",
       "6                     0.0                                 0.0            3.0   \n",
       "8                     0.0                                 0.0            0.0   \n",
       "\n",
       "   casualty_home_area_type  casualty_imd_decile  \n",
       "2                      1.0                  3.0  \n",
       "3                      1.0                  1.0  \n",
       "5                      1.0                  2.0  \n",
       "6                      1.0                  3.0  \n",
       "8                      1.0                  2.0  \n",
       "\n",
       "[5 rows x 70 columns]"
      ]
     },
     "execution_count": 4,
     "metadata": {},
     "output_type": "execute_result"
    }
   ],
   "source": [
    "#droping the observation which contains NA(missing values)\n",
    "#As the data on the observation is massive droping some dosen't effect the study\n",
    "ds = ds.dropna()\n",
    "ds.head()"
   ]
  },
  {
   "cell_type": "code",
   "execution_count": 5,
   "id": "a40394c2",
   "metadata": {},
   "outputs": [
    {
     "data": {
      "text/plain": [
       "(174538, 70)"
      ]
     },
     "execution_count": 5,
     "metadata": {},
     "output_type": "execute_result"
    }
   ],
   "source": [
    "ds.shape"
   ]
  },
  {
   "cell_type": "markdown",
   "id": "16fb6f43",
   "metadata": {},
   "source": [
    "Initally there was around 250k observation, after droping the ones that contain NA values we get around 170k observaiton. This is more than sufficient for the analysis."
   ]
  },
  {
   "cell_type": "markdown",
   "id": "a5b6f92d",
   "metadata": {},
   "source": [
    "Creating two dataset with and without vehicle specification"
   ]
  },
  {
   "cell_type": "code",
   "execution_count": 6,
   "id": "26024193",
   "metadata": {},
   "outputs": [],
   "source": [
    "#selection of the varaibles which has major impact on determining the accident severity\n",
    "ds1 = ds[['special_conditions_at_site','pedestrian_movement','road_surface_conditions','light_conditions','weather_conditions','sex_of_driver','age_band_of_driver','junction_location', 'junction_detail','junction_control','day_of_week','accident_severity','speed_limit']]\n",
    "#same varaibles with additionalfeateres of vehicle like vehicle_type, engine_capacity_(cc) and age_of_vehicle to observe the change of impact/accuracy.\n",
    "ds2 = ds[['special_conditions_at_site','pedestrian_movement','vehicle_type','engine_capacity_(cc)','age_of_vehicle','road_surface_conditions','light_conditions','weather_conditions','sex_of_driver','age_band_of_driver','junction_location', 'junction_detail','junction_control','day_of_week','accident_severity','speed_limit']]"
   ]
  },
  {
   "cell_type": "markdown",
   "id": "5fee206d",
   "metadata": {},
   "source": [
    "I observed that some of the values are -1 which indicate missing values, which need to be converted to NA and dropped.\n",
    "Event after this filtering we have enough data for carrying out the observation."
   ]
  },
  {
   "cell_type": "code",
   "execution_count": 7,
   "id": "02e37c94",
   "metadata": {},
   "outputs": [
    {
     "data": {
      "text/plain": [
       "(99146, 13)"
      ]
     },
     "execution_count": 7,
     "metadata": {},
     "output_type": "execute_result"
    }
   ],
   "source": [
    "#imputing -1 values to NaN to be recognized as missing data\n",
    "ds1.replace(-1, np.nan, inplace=True)\n",
    "#droping the rows which contains missing values\n",
    "ds1 = ds1.dropna()\n",
    "ds1.shape\n"
   ]
  },
  {
   "cell_type": "code",
   "execution_count": 8,
   "id": "128261bc",
   "metadata": {},
   "outputs": [
    {
     "data": {
      "text/plain": [
       "(68008, 16)"
      ]
     },
     "execution_count": 8,
     "metadata": {},
     "output_type": "execute_result"
    }
   ],
   "source": [
    "# Repeating the pervious step for second dataset\n",
    "ds2.replace(-1,np.nan, inplace=True)\n",
    "ds2 = ds2.dropna()\n",
    "ds2.shape"
   ]
  },
  {
   "cell_type": "markdown",
   "id": "8e1b59f4",
   "metadata": {},
   "source": [
    "## PRELIMINARY DATA ANALYSIS"
   ]
  },
  {
   "cell_type": "code",
   "execution_count": 9,
   "id": "18d91369",
   "metadata": {},
   "outputs": [
    {
     "data": {
      "image/png": "[encoded data removed]",
      "text/plain": [
       "<Figure size 864x648 with 2 Axes>"
      ]
     },
     "metadata": {
      "needs_background": "light"
     },
     "output_type": "display_data"
    }
   ],
   "source": [
    "# Graphical repersentation to show the co-relation between each elements on the second dataset\n",
    "import matplotlib.pyplot as plt\n",
    "corrmat = ds2.corr()\n",
    "f, ax = plt.subplots(figsize=(12,9))\n",
    "sns.heatmap(corrmat, vmax=2, square=True)\n",
    "\n",
    "plt.show()"
   ]
  },
  {
   "cell_type": "markdown",
   "id": "677d222d",
   "metadata": {},
   "source": [
    "From above, the coorelation between each specified feature is identified the interdependancy between variables.The matrix is color-coded, with a value of one denoted by beige and displaying a wholly positive linear connection. Dark purple is a zero that denotes the absence of a linear association.\n",
    "For clear view we take a closer look on the values of the coorelation in the next part which shows that there is slight dependancy between vehicle_type and engine_capacity(cc) with accident_severity."
   ]
  },
  {
   "cell_type": "code",
   "execution_count": 10,
   "id": "e5d98530",
   "metadata": {},
   "outputs": [
    {
     "data": {
      "image/png": "[encoded data removed]",
      "text/plain": [
       "<Figure size 432x288 with 2 Axes>"
      ]
     },
     "metadata": {},
     "output_type": "display_data"
    }
   ],
   "source": [
    "k = 7 #number of variables for heatmap\n",
    "cols = corrmat.nlargest(k, 'accident_severity')['accident_severity'].index\n",
    "cm = np.corrcoef(ds2[cols].values.T)\n",
    "sns.set(font_scale=1.25)\n",
    "hm = sns.heatmap(cm, cbar=True, annot=True, square=True, fmt='.2f', annot_kws={'size': 10}, yticklabels=cols.values, xticklabels=cols.values)\n",
    "plt.show()"
   ]
  },
  {
   "cell_type": "code",
   "execution_count": 11,
   "id": "03c0711b",
   "metadata": {},
   "outputs": [
    {
     "data": {
      "text/html": [
       "<div>\n",
       "<style scoped>\n",
       "    .dataframe tbody tr th:only-of-type {\n",
       "        vertical-align: middle;\n",
       "    }\n",
       "\n",
       "    .dataframe tbody tr th {\n",
       "        vertical-align: top;\n",
       "    }\n",
       "\n",
       "    .dataframe thead th {\n",
       "        text-align: right;\n",
       "    }\n",
       "</style>\n",
       "<table border=\"1\" class=\"dataframe\">\n",
       "  <thead>\n",
       "    <tr style=\"text-align: right;\">\n",
       "      <th></th>\n",
       "      <th>special_conditions_at_site</th>\n",
       "      <th>pedestrian_movement</th>\n",
       "      <th>vehicle_type</th>\n",
       "      <th>engine_capacity_(cc)</th>\n",
       "      <th>age_of_vehicle</th>\n",
       "      <th>road_surface_conditions</th>\n",
       "      <th>light_conditions</th>\n",
       "      <th>weather_conditions</th>\n",
       "      <th>sex_of_driver</th>\n",
       "      <th>age_band_of_driver</th>\n",
       "      <th>junction_location</th>\n",
       "      <th>junction_detail</th>\n",
       "      <th>junction_control</th>\n",
       "      <th>day_of_week</th>\n",
       "      <th>accident_severity</th>\n",
       "      <th>speed_limit</th>\n",
       "    </tr>\n",
       "  </thead>\n",
       "  <tbody>\n",
       "    <tr>\n",
       "      <th>6</th>\n",
       "      <td>0.0</td>\n",
       "      <td>0.0</td>\n",
       "      <td>3.0</td>\n",
       "      <td>50.0</td>\n",
       "      <td>8.0</td>\n",
       "      <td>1.0</td>\n",
       "      <td>7</td>\n",
       "      <td>1</td>\n",
       "      <td>2.0</td>\n",
       "      <td>6.0</td>\n",
       "      <td>2.0</td>\n",
       "      <td>6.0</td>\n",
       "      <td>2.0</td>\n",
       "      <td>5</td>\n",
       "      <td>3</td>\n",
       "      <td>40</td>\n",
       "    </tr>\n",
       "    <tr>\n",
       "      <th>8</th>\n",
       "      <td>0.0</td>\n",
       "      <td>2.0</td>\n",
       "      <td>9.0</td>\n",
       "      <td>1398.0</td>\n",
       "      <td>1.0</td>\n",
       "      <td>1.0</td>\n",
       "      <td>1</td>\n",
       "      <td>1</td>\n",
       "      <td>1.0</td>\n",
       "      <td>5.0</td>\n",
       "      <td>1.0</td>\n",
       "      <td>3.0</td>\n",
       "      <td>2.0</td>\n",
       "      <td>5</td>\n",
       "      <td>3</td>\n",
       "      <td>30</td>\n",
       "    </tr>\n",
       "    <tr>\n",
       "      <th>14</th>\n",
       "      <td>0.0</td>\n",
       "      <td>0.0</td>\n",
       "      <td>9.0</td>\n",
       "      <td>999.0</td>\n",
       "      <td>1.0</td>\n",
       "      <td>1.0</td>\n",
       "      <td>1</td>\n",
       "      <td>1</td>\n",
       "      <td>2.0</td>\n",
       "      <td>5.0</td>\n",
       "      <td>8.0</td>\n",
       "      <td>6.0</td>\n",
       "      <td>4.0</td>\n",
       "      <td>4</td>\n",
       "      <td>3</td>\n",
       "      <td>30</td>\n",
       "    </tr>\n",
       "    <tr>\n",
       "      <th>25</th>\n",
       "      <td>0.0</td>\n",
       "      <td>0.0</td>\n",
       "      <td>9.0</td>\n",
       "      <td>1242.0</td>\n",
       "      <td>8.0</td>\n",
       "      <td>1.0</td>\n",
       "      <td>1</td>\n",
       "      <td>1</td>\n",
       "      <td>2.0</td>\n",
       "      <td>8.0</td>\n",
       "      <td>8.0</td>\n",
       "      <td>3.0</td>\n",
       "      <td>4.0</td>\n",
       "      <td>7</td>\n",
       "      <td>3</td>\n",
       "      <td>30</td>\n",
       "    </tr>\n",
       "    <tr>\n",
       "      <th>26</th>\n",
       "      <td>0.0</td>\n",
       "      <td>3.0</td>\n",
       "      <td>9.0</td>\n",
       "      <td>1896.0</td>\n",
       "      <td>7.0</td>\n",
       "      <td>1.0</td>\n",
       "      <td>1</td>\n",
       "      <td>1</td>\n",
       "      <td>2.0</td>\n",
       "      <td>8.0</td>\n",
       "      <td>8.0</td>\n",
       "      <td>3.0</td>\n",
       "      <td>4.0</td>\n",
       "      <td>5</td>\n",
       "      <td>3</td>\n",
       "      <td>30</td>\n",
       "    </tr>\n",
       "  </tbody>\n",
       "</table>\n",
       "</div>"
      ],
      "text/plain": [
       "    special_conditions_at_site  pedestrian_movement  vehicle_type  \\\n",
       "6                          0.0                  0.0           3.0   \n",
       "8                          0.0                  2.0           9.0   \n",
       "14                         0.0                  0.0           9.0   \n",
       "25                         0.0                  0.0           9.0   \n",
       "26                         0.0                  3.0           9.0   \n",
       "\n",
       "    engine_capacity_(cc)  age_of_vehicle  road_surface_conditions  \\\n",
       "6                   50.0             8.0                      1.0   \n",
       "8                 1398.0             1.0                      1.0   \n",
       "14                 999.0             1.0                      1.0   \n",
       "25                1242.0             8.0                      1.0   \n",
       "26                1896.0             7.0                      1.0   \n",
       "\n",
       "    light_conditions  weather_conditions  sex_of_driver  age_band_of_driver  \\\n",
       "6                  7                   1            2.0                 6.0   \n",
       "8                  1                   1            1.0                 5.0   \n",
       "14                 1                   1            2.0                 5.0   \n",
       "25                 1                   1            2.0                 8.0   \n",
       "26                 1                   1            2.0                 8.0   \n",
       "\n",
       "    junction_location  junction_detail  junction_control  day_of_week  \\\n",
       "6                 2.0              6.0               2.0            5   \n",
       "8                 1.0              3.0               2.0            5   \n",
       "14                8.0              6.0               4.0            4   \n",
       "25                8.0              3.0               4.0            7   \n",
       "26                8.0              3.0               4.0            5   \n",
       "\n",
       "    accident_severity  speed_limit  \n",
       "6                   3           40  \n",
       "8                   3           30  \n",
       "14                  3           30  \n",
       "25                  3           30  \n",
       "26                  3           30  "
      ]
     },
     "execution_count": 11,
     "metadata": {},
     "output_type": "execute_result"
    }
   ],
   "source": [
    "ds2.head()"
   ]
  },
  {
   "cell_type": "markdown",
   "id": "1f2eeae9",
   "metadata": {},
   "source": [
    "The next step was to normalize the only features that were not categorical: speed_limit and age_of_vehicle. Normalization involves taking the logarithm of the given features. This is done to because high values for certain variables computationally skew results more in favour of that variable, than their actual contribution. The only characteristics that were not categorical were speed limit and age of vehicle, which were then normalised. By taking the logarithm of the provided characteristics, normalisation is accomplished. High numbers for some variables computationally distort outcomes more in favour of that variable than their real contribution, therefore this is done."
   ]
  },
  {
   "cell_type": "code",
   "execution_count": 12,
   "id": "bf7909b8",
   "metadata": {},
   "outputs": [
    {
     "data": {
      "image/png": "[encoded data removed]",
      "text/plain": [
       "<Figure size 432x288 with 1 Axes>"
      ]
     },
     "metadata": {},
     "output_type": "display_data"
    },
    {
     "data": {
      "image/png": "[encoded data removed]",
      "text/plain": [
       "<Figure size 432x288 with 1 Axes>"
      ]
     },
     "metadata": {},
     "output_type": "display_data"
    }
   ],
   "source": [
    "from scipy.stats import norm\n",
    "from scipy import stats\n",
    "#histogram and normal probability plot\n",
    "sns.distplot(ds1['speed_limit'], fit=norm);\n",
    "fig = plt.figure()\n",
    "res = stats.probplot(ds1['speed_limit'], plot=plt)\n",
    "plt.show()"
   ]
  },
  {
   "cell_type": "markdown",
   "id": "241b8c4d",
   "metadata": {},
   "source": [
    "Here the only variables with a substantial numerical variation were the speed limit and the age of the vehicle, therefore logarithms of both variables were calculated. Taking the logarithm of both the speed limit and the vehicle's age further improved the fit by changing the scale and making the variables more \"normally\" distributed."
   ]
  },
  {
   "cell_type": "code",
   "execution_count": 13,
   "id": "c4199944",
   "metadata": {},
   "outputs": [],
   "source": [
    "ds2['speed_limit'] = np.log1p(ds2['speed_limit']) \n",
    "ds2['age_of_vehicle'] = np.log1p(ds2['age_of_vehicle'])\n",
    "ds2['engine_capacity_(cc)'] = np.log1p(ds2['engine_capacity_(cc)'])\n",
    "\n",
    "ds1['speed_limit'] = np.log1p(ds1['speed_limit'])"
   ]
  },
  {
   "cell_type": "code",
   "execution_count": 14,
   "id": "eb3f3044",
   "metadata": {},
   "outputs": [
    {
     "data": {
      "image/png": "[encoded data removed]",
      "text/plain": [
       "<Figure size 432x288 with 1 Axes>"
      ]
     },
     "metadata": {},
     "output_type": "display_data"
    },
    {
     "data": {
      "image/png": "[encoded data removed]",
      "text/plain": [
       "<Figure size 432x288 with 1 Axes>"
      ]
     },
     "metadata": {},
     "output_type": "display_data"
    }
   ],
   "source": [
    "sns.distplot(ds1['speed_limit'], fit=norm);\n",
    "fig = plt.figure()\n",
    "res = stats.probplot(ds1['speed_limit'], plot=plt)\n",
    "plt.show()"
   ]
  },
  {
   "cell_type": "code",
   "execution_count": 15,
   "id": "ba07dcef",
   "metadata": {},
   "outputs": [
    {
     "data": {
      "text/html": [
       "<div>\n",
       "<style scoped>\n",
       "    .dataframe tbody tr th:only-of-type {\n",
       "        vertical-align: middle;\n",
       "    }\n",
       "\n",
       "    .dataframe tbody tr th {\n",
       "        vertical-align: top;\n",
       "    }\n",
       "\n",
       "    .dataframe thead th {\n",
       "        text-align: right;\n",
       "    }\n",
       "</style>\n",
       "<table border=\"1\" class=\"dataframe\">\n",
       "  <thead>\n",
       "    <tr style=\"text-align: right;\">\n",
       "      <th></th>\n",
       "      <th>special_conditions_at_site</th>\n",
       "      <th>pedestrian_movement</th>\n",
       "      <th>vehicle_type</th>\n",
       "      <th>engine_capacity_(cc)</th>\n",
       "      <th>age_of_vehicle</th>\n",
       "      <th>road_surface_conditions</th>\n",
       "      <th>light_conditions</th>\n",
       "      <th>weather_conditions</th>\n",
       "      <th>sex_of_driver</th>\n",
       "      <th>age_band_of_driver</th>\n",
       "      <th>junction_location</th>\n",
       "      <th>junction_detail</th>\n",
       "      <th>junction_control</th>\n",
       "      <th>day_of_week</th>\n",
       "      <th>accident_severity</th>\n",
       "      <th>speed_limit</th>\n",
       "    </tr>\n",
       "  </thead>\n",
       "  <tbody>\n",
       "    <tr>\n",
       "      <th>6</th>\n",
       "      <td>0.0</td>\n",
       "      <td>0.0</td>\n",
       "      <td>3.0</td>\n",
       "      <td>3.931826</td>\n",
       "      <td>2.197225</td>\n",
       "      <td>1.0</td>\n",
       "      <td>7</td>\n",
       "      <td>1</td>\n",
       "      <td>2.0</td>\n",
       "      <td>6.0</td>\n",
       "      <td>2.0</td>\n",
       "      <td>6.0</td>\n",
       "      <td>2.0</td>\n",
       "      <td>5</td>\n",
       "      <td>3</td>\n",
       "      <td>3.713572</td>\n",
       "    </tr>\n",
       "    <tr>\n",
       "      <th>8</th>\n",
       "      <td>0.0</td>\n",
       "      <td>2.0</td>\n",
       "      <td>9.0</td>\n",
       "      <td>7.243513</td>\n",
       "      <td>0.693147</td>\n",
       "      <td>1.0</td>\n",
       "      <td>1</td>\n",
       "      <td>1</td>\n",
       "      <td>1.0</td>\n",
       "      <td>5.0</td>\n",
       "      <td>1.0</td>\n",
       "      <td>3.0</td>\n",
       "      <td>2.0</td>\n",
       "      <td>5</td>\n",
       "      <td>3</td>\n",
       "      <td>3.433987</td>\n",
       "    </tr>\n",
       "    <tr>\n",
       "      <th>14</th>\n",
       "      <td>0.0</td>\n",
       "      <td>0.0</td>\n",
       "      <td>9.0</td>\n",
       "      <td>6.907755</td>\n",
       "      <td>0.693147</td>\n",
       "      <td>1.0</td>\n",
       "      <td>1</td>\n",
       "      <td>1</td>\n",
       "      <td>2.0</td>\n",
       "      <td>5.0</td>\n",
       "      <td>8.0</td>\n",
       "      <td>6.0</td>\n",
       "      <td>4.0</td>\n",
       "      <td>4</td>\n",
       "      <td>3</td>\n",
       "      <td>3.433987</td>\n",
       "    </tr>\n",
       "    <tr>\n",
       "      <th>25</th>\n",
       "      <td>0.0</td>\n",
       "      <td>0.0</td>\n",
       "      <td>9.0</td>\n",
       "      <td>7.125283</td>\n",
       "      <td>2.197225</td>\n",
       "      <td>1.0</td>\n",
       "      <td>1</td>\n",
       "      <td>1</td>\n",
       "      <td>2.0</td>\n",
       "      <td>8.0</td>\n",
       "      <td>8.0</td>\n",
       "      <td>3.0</td>\n",
       "      <td>4.0</td>\n",
       "      <td>7</td>\n",
       "      <td>3</td>\n",
       "      <td>3.433987</td>\n",
       "    </tr>\n",
       "    <tr>\n",
       "      <th>26</th>\n",
       "      <td>0.0</td>\n",
       "      <td>3.0</td>\n",
       "      <td>9.0</td>\n",
       "      <td>7.548029</td>\n",
       "      <td>2.079442</td>\n",
       "      <td>1.0</td>\n",
       "      <td>1</td>\n",
       "      <td>1</td>\n",
       "      <td>2.0</td>\n",
       "      <td>8.0</td>\n",
       "      <td>8.0</td>\n",
       "      <td>3.0</td>\n",
       "      <td>4.0</td>\n",
       "      <td>5</td>\n",
       "      <td>3</td>\n",
       "      <td>3.433987</td>\n",
       "    </tr>\n",
       "    <tr>\n",
       "      <th>...</th>\n",
       "      <td>...</td>\n",
       "      <td>...</td>\n",
       "      <td>...</td>\n",
       "      <td>...</td>\n",
       "      <td>...</td>\n",
       "      <td>...</td>\n",
       "      <td>...</td>\n",
       "      <td>...</td>\n",
       "      <td>...</td>\n",
       "      <td>...</td>\n",
       "      <td>...</td>\n",
       "      <td>...</td>\n",
       "      <td>...</td>\n",
       "      <td>...</td>\n",
       "      <td>...</td>\n",
       "      <td>...</td>\n",
       "    </tr>\n",
       "    <tr>\n",
       "      <th>257629</th>\n",
       "      <td>0.0</td>\n",
       "      <td>0.0</td>\n",
       "      <td>11.0</td>\n",
       "      <td>9.392745</td>\n",
       "      <td>2.197225</td>\n",
       "      <td>1.0</td>\n",
       "      <td>1</td>\n",
       "      <td>1</td>\n",
       "      <td>2.0</td>\n",
       "      <td>8.0</td>\n",
       "      <td>8.0</td>\n",
       "      <td>3.0</td>\n",
       "      <td>4.0</td>\n",
       "      <td>4</td>\n",
       "      <td>1</td>\n",
       "      <td>4.110874</td>\n",
       "    </tr>\n",
       "    <tr>\n",
       "      <th>257639</th>\n",
       "      <td>0.0</td>\n",
       "      <td>0.0</td>\n",
       "      <td>8.0</td>\n",
       "      <td>7.469654</td>\n",
       "      <td>1.945910</td>\n",
       "      <td>1.0</td>\n",
       "      <td>1</td>\n",
       "      <td>1</td>\n",
       "      <td>1.0</td>\n",
       "      <td>5.0</td>\n",
       "      <td>1.0</td>\n",
       "      <td>3.0</td>\n",
       "      <td>4.0</td>\n",
       "      <td>7</td>\n",
       "      <td>3</td>\n",
       "      <td>3.433987</td>\n",
       "    </tr>\n",
       "    <tr>\n",
       "      <th>257643</th>\n",
       "      <td>0.0</td>\n",
       "      <td>0.0</td>\n",
       "      <td>5.0</td>\n",
       "      <td>7.158514</td>\n",
       "      <td>2.484907</td>\n",
       "      <td>1.0</td>\n",
       "      <td>1</td>\n",
       "      <td>1</td>\n",
       "      <td>1.0</td>\n",
       "      <td>9.0</td>\n",
       "      <td>2.0</td>\n",
       "      <td>3.0</td>\n",
       "      <td>4.0</td>\n",
       "      <td>1</td>\n",
       "      <td>2</td>\n",
       "      <td>4.110874</td>\n",
       "    </tr>\n",
       "    <tr>\n",
       "      <th>257649</th>\n",
       "      <td>0.0</td>\n",
       "      <td>0.0</td>\n",
       "      <td>9.0</td>\n",
       "      <td>7.493874</td>\n",
       "      <td>2.639057</td>\n",
       "      <td>2.0</td>\n",
       "      <td>1</td>\n",
       "      <td>2</td>\n",
       "      <td>1.0</td>\n",
       "      <td>4.0</td>\n",
       "      <td>8.0</td>\n",
       "      <td>3.0</td>\n",
       "      <td>4.0</td>\n",
       "      <td>5</td>\n",
       "      <td>3</td>\n",
       "      <td>3.433987</td>\n",
       "    </tr>\n",
       "    <tr>\n",
       "      <th>257650</th>\n",
       "      <td>0.0</td>\n",
       "      <td>0.0</td>\n",
       "      <td>9.0</td>\n",
       "      <td>7.372118</td>\n",
       "      <td>2.708050</td>\n",
       "      <td>2.0</td>\n",
       "      <td>1</td>\n",
       "      <td>2</td>\n",
       "      <td>2.0</td>\n",
       "      <td>7.0</td>\n",
       "      <td>1.0</td>\n",
       "      <td>3.0</td>\n",
       "      <td>4.0</td>\n",
       "      <td>5</td>\n",
       "      <td>3</td>\n",
       "      <td>3.433987</td>\n",
       "    </tr>\n",
       "  </tbody>\n",
       "</table>\n",
       "<p>68008 rows × 16 columns</p>\n",
       "</div>"
      ],
      "text/plain": [
       "        special_conditions_at_site  pedestrian_movement  vehicle_type  \\\n",
       "6                              0.0                  0.0           3.0   \n",
       "8                              0.0                  2.0           9.0   \n",
       "14                             0.0                  0.0           9.0   \n",
       "25                             0.0                  0.0           9.0   \n",
       "26                             0.0                  3.0           9.0   \n",
       "...                            ...                  ...           ...   \n",
       "257629                         0.0                  0.0          11.0   \n",
       "257639                         0.0                  0.0           8.0   \n",
       "257643                         0.0                  0.0           5.0   \n",
       "257649                         0.0                  0.0           9.0   \n",
       "257650                         0.0                  0.0           9.0   \n",
       "\n",
       "        engine_capacity_(cc)  age_of_vehicle  road_surface_conditions  \\\n",
       "6                   3.931826        2.197225                      1.0   \n",
       "8                   7.243513        0.693147                      1.0   \n",
       "14                  6.907755        0.693147                      1.0   \n",
       "25                  7.125283        2.197225                      1.0   \n",
       "26                  7.548029        2.079442                      1.0   \n",
       "...                      ...             ...                      ...   \n",
       "257629              9.392745        2.197225                      1.0   \n",
       "257639              7.469654        1.945910                      1.0   \n",
       "257643              7.158514        2.484907                      1.0   \n",
       "257649              7.493874        2.639057                      2.0   \n",
       "257650              7.372118        2.708050                      2.0   \n",
       "\n",
       "        light_conditions  weather_conditions  sex_of_driver  \\\n",
       "6                      7                   1            2.0   \n",
       "8                      1                   1            1.0   \n",
       "14                     1                   1            2.0   \n",
       "25                     1                   1            2.0   \n",
       "26                     1                   1            2.0   \n",
       "...                  ...                 ...            ...   \n",
       "257629                 1                   1            2.0   \n",
       "257639                 1                   1            1.0   \n",
       "257643                 1                   1            1.0   \n",
       "257649                 1                   2            1.0   \n",
       "257650                 1                   2            2.0   \n",
       "\n",
       "        age_band_of_driver  junction_location  junction_detail  \\\n",
       "6                      6.0                2.0              6.0   \n",
       "8                      5.0                1.0              3.0   \n",
       "14                     5.0                8.0              6.0   \n",
       "25                     8.0                8.0              3.0   \n",
       "26                     8.0                8.0              3.0   \n",
       "...                    ...                ...              ...   \n",
       "257629                 8.0                8.0              3.0   \n",
       "257639                 5.0                1.0              3.0   \n",
       "257643                 9.0                2.0              3.0   \n",
       "257649                 4.0                8.0              3.0   \n",
       "257650                 7.0                1.0              3.0   \n",
       "\n",
       "        junction_control  day_of_week  accident_severity  speed_limit  \n",
       "6                    2.0            5                  3     3.713572  \n",
       "8                    2.0            5                  3     3.433987  \n",
       "14                   4.0            4                  3     3.433987  \n",
       "25                   4.0            7                  3     3.433987  \n",
       "26                   4.0            5                  3     3.433987  \n",
       "...                  ...          ...                ...          ...  \n",
       "257629               4.0            4                  1     4.110874  \n",
       "257639               4.0            7                  3     3.433987  \n",
       "257643               4.0            1                  2     4.110874  \n",
       "257649               4.0            5                  3     3.433987  \n",
       "257650               4.0            5                  3     3.433987  \n",
       "\n",
       "[68008 rows x 16 columns]"
      ]
     },
     "execution_count": 15,
     "metadata": {},
     "output_type": "execute_result"
    }
   ],
   "source": [
    "ds2"
   ]
  },
  {
   "cell_type": "code",
   "execution_count": 16,
   "id": "febd912f",
   "metadata": {},
   "outputs": [
    {
     "data": {
      "text/plain": [
       "array([3, 3, 3, ..., 3, 3, 3], dtype=int64)"
      ]
     },
     "execution_count": 16,
     "metadata": {},
     "output_type": "execute_result"
    }
   ],
   "source": [
    "# As the data is huge, we only take portion of data to reduse the computational time\n",
    "ds1= ds1[:15000] \n",
    "ds2= ds2[:15000] \n",
    "\n",
    "Y = ds2.accident_severity.values\n",
    "Y1 = ds1.accident_severity.values\n",
    "Y"
   ]
  },
  {
   "cell_type": "code",
   "execution_count": 17,
   "id": "f594e663",
   "metadata": {},
   "outputs": [],
   "source": [
    "cols = ds2.shape[1]\n",
    "X = ds2.loc[:, ds2.columns != 'accident_severity']\n",
    "X1 = ds1.loc[:, ds1.columns != 'accident_severity']\n",
    "X.columns;"
   ]
  },
  {
   "cell_type": "code",
   "execution_count": 18,
   "id": "666967e8",
   "metadata": {},
   "outputs": [
    {
     "data": {
      "text/plain": [
       "(15000, 12)"
      ]
     },
     "execution_count": 18,
     "metadata": {},
     "output_type": "execute_result"
    }
   ],
   "source": [
    "X1.shape"
   ]
  },
  {
   "cell_type": "code",
   "execution_count": 19,
   "id": "588dd879",
   "metadata": {},
   "outputs": [
    {
     "data": {
      "text/plain": [
       "(15000, 15)"
      ]
     },
     "execution_count": 19,
     "metadata": {},
     "output_type": "execute_result"
    }
   ],
   "source": [
    "X.shape"
   ]
  },
  {
   "cell_type": "markdown",
   "id": "38b55981",
   "metadata": {},
   "source": [
    "## Importing modules to deploy algorithms"
   ]
  },
  {
   "cell_type": "code",
   "execution_count": 20,
   "id": "a22afbfe",
   "metadata": {},
   "outputs": [],
   "source": [
    "from sklearn.linear_model import LogisticRegression\n",
    "from sklearn.ensemble import RandomForestClassifier\n",
    "from sklearn.neighbors import KNeighborsClassifier\n",
    "from sklearn.naive_bayes import GaussianNB\n",
    "from sklearn.tree import DecisionTreeClassifier\n",
    "from sklearn.model_selection import train_test_split\n",
    "from sklearn.svm import SVC"
   ]
  },
  {
   "cell_type": "markdown",
   "id": "70e9a22f",
   "metadata": {},
   "source": [
    "## Sampling\n",
    "\n",
    "**Sampling and trainig machine learning algorithms with out considering vehicle information**"
   ]
  },
  {
   "cell_type": "code",
   "execution_count": 21,
   "id": "579f6866",
   "metadata": {},
   "outputs": [],
   "source": [
    "# splitting dataset into test and train with 1:3 ratio.\n",
    "X_train1, X_test1,Y_train1,Y_test1 = train_test_split(X1, Y1, test_size=0.33, random_state=99)"
   ]
  },
  {
   "cell_type": "markdown",
   "id": "6ce7a344",
   "metadata": {},
   "source": [
    "## Deploying Algorithms"
   ]
  },
  {
   "cell_type": "markdown",
   "id": "88764d44",
   "metadata": {},
   "source": [
    "### K-Nearest Neighbors (KNN)"
   ]
  },
  {
   "cell_type": "code",
   "execution_count": 22,
   "id": "8ce248dd",
   "metadata": {},
   "outputs": [
    {
     "data": {
      "text/plain": [
       "90.16"
      ]
     },
     "execution_count": 22,
     "metadata": {},
     "output_type": "execute_result"
    }
   ],
   "source": [
    "#KNN\n",
    "knn = KNeighborsClassifier(n_neighbors = 3)\n",
    "knn.fit(X_train1, Y_train1)\n",
    "Y_pred = knn.predict(X_test1)\n",
    "acc_knn1 = round(knn.score(X_test1, Y_test1) * 100, 2)\n",
    "acc_knn1"
   ]
  },
  {
   "cell_type": "markdown",
   "id": "e23e4c6d",
   "metadata": {},
   "source": [
    "### Linear Regression (LR)"
   ]
  },
  {
   "cell_type": "code",
   "execution_count": 23,
   "id": "02825934",
   "metadata": {},
   "outputs": [
    {
     "data": {
      "text/plain": [
       "91.55"
      ]
     },
     "execution_count": 23,
     "metadata": {},
     "output_type": "execute_result"
    }
   ],
   "source": [
    "#LR\n",
    "logreg = LogisticRegression()\n",
    "logreg.fit(X_train1, Y_train1)\n",
    "Y_pred = logreg.predict(X_test1)\n",
    "acc_log1 = round(logreg.score(X_train1, Y_train1) * 100, 2)\n",
    "acc_log1\n",
    "\n"
   ]
  },
  {
   "cell_type": "markdown",
   "id": "8b098e78",
   "metadata": {},
   "source": [
    "### Gaussian Naive Bayes (NB)"
   ]
  },
  {
   "cell_type": "code",
   "execution_count": 24,
   "id": "d04047af",
   "metadata": {},
   "outputs": [
    {
     "data": {
      "text/plain": [
       "9.23"
      ]
     },
     "execution_count": 24,
     "metadata": {},
     "output_type": "execute_result"
    }
   ],
   "source": [
    "#NB\n",
    "gaussian = GaussianNB()\n",
    "gaussian.fit(X_train1, Y_train1)\n",
    "Y_pred = gaussian.predict(X_test1)\n",
    "acc_gaussian1 = round(gaussian.score(X_test1, Y_test1) * 100, 2)\n",
    "acc_gaussian1\n"
   ]
  },
  {
   "cell_type": "markdown",
   "id": "a47e3a31",
   "metadata": {},
   "source": [
    "### Decision Tree (DT)"
   ]
  },
  {
   "cell_type": "code",
   "execution_count": 25,
   "id": "43763f90",
   "metadata": {},
   "outputs": [
    {
     "data": {
      "text/plain": [
       "87.86"
      ]
     },
     "execution_count": 25,
     "metadata": {},
     "output_type": "execute_result"
    }
   ],
   "source": [
    "#DT\n",
    "decision_tree = DecisionTreeClassifier()\n",
    "decision_tree.fit(X_train1, Y_train1)\n",
    "Y_pred = decision_tree.predict(X_test1)\n",
    "acc_decision_tree1 = round(decision_tree.score(X_test1, Y_test1) * 100, 2)\n",
    "acc_decision_tree1\n"
   ]
  },
  {
   "cell_type": "markdown",
   "id": "068ad91a",
   "metadata": {},
   "source": [
    "### Random Forest (RF)"
   ]
  },
  {
   "cell_type": "code",
   "execution_count": 26,
   "id": "23effc7c",
   "metadata": {},
   "outputs": [
    {
     "data": {
      "text/plain": [
       "92.0"
      ]
     },
     "execution_count": 26,
     "metadata": {},
     "output_type": "execute_result"
    }
   ],
   "source": [
    "#RF\n",
    "random_forest = RandomForestClassifier(n_estimators=100)\n",
    "random_forest.fit(X_train1, Y_train1)\n",
    "Y_pred = random_forest.predict(X_test1)\n",
    "random_forest.score(X_train1, Y_train1)\n",
    "acc_random_forest1 = round(random_forest.score(X_test1, Y_test1) * 100, 2)\n",
    "acc_random_forest1"
   ]
  },
  {
   "cell_type": "markdown",
   "id": "e7459604",
   "metadata": {},
   "source": [
    "### Support Vector Machines (SVM)"
   ]
  },
  {
   "cell_type": "code",
   "execution_count": 27,
   "id": "cba07d1c",
   "metadata": {},
   "outputs": [
    {
     "data": {
      "text/plain": [
       "92.48"
      ]
     },
     "execution_count": 27,
     "metadata": {},
     "output_type": "execute_result"
    }
   ],
   "source": [
    "#SVM\n",
    "svc = SVC()\n",
    "svc.fit(X_train1, Y_train1)\n",
    "Y_pred = svc.predict(X_test1)\n",
    "acc_svc1 = round(svc.score(X_test1, Y_test1) * 100, 2)\n",
    "acc_svc1"
   ]
  },
  {
   "cell_type": "markdown",
   "id": "cb767733",
   "metadata": {},
   "source": [
    "**Sampling and trainig machine learning algorithms considering vehicle information**"
   ]
  },
  {
   "cell_type": "code",
   "execution_count": 28,
   "id": "c6cd6871",
   "metadata": {},
   "outputs": [],
   "source": [
    "# splitting dataset into test and train with 1:3 ratio.\n",
    "X_train, X_test,Y_train,Y_test = train_test_split(X, Y, test_size=0.33, random_state=99)"
   ]
  },
  {
   "cell_type": "markdown",
   "id": "e83ea437",
   "metadata": {},
   "source": [
    "### K-Nearest Neighbors (KNN)"
   ]
  },
  {
   "cell_type": "code",
   "execution_count": 29,
   "id": "79342b6a",
   "metadata": {},
   "outputs": [
    {
     "data": {
      "text/plain": [
       "90.81"
      ]
     },
     "execution_count": 29,
     "metadata": {},
     "output_type": "execute_result"
    }
   ],
   "source": [
    "#KNN\n",
    "\n",
    "knn = KNeighborsClassifier(n_neighbors = 3)\n",
    "knn.fit(X_train, Y_train)\n",
    "Y_pred = knn.predict(X_test)\n",
    "acc_knn = round(knn.score(X_test, Y_test) * 100, 2)\n",
    "acc_knn"
   ]
  },
  {
   "cell_type": "markdown",
   "id": "3a8dc1a1",
   "metadata": {},
   "source": [
    "### Linear Regression (LR)"
   ]
  },
  {
   "cell_type": "code",
   "execution_count": 30,
   "id": "5836d748",
   "metadata": {},
   "outputs": [
    {
     "data": {
      "text/plain": [
       "92.34"
      ]
     },
     "execution_count": 30,
     "metadata": {},
     "output_type": "execute_result"
    }
   ],
   "source": [
    "# LR\n",
    "logreg = LogisticRegression()\n",
    "logreg.fit(X_train, Y_train)\n",
    "Y_pred = logreg.predict(X_test)\n",
    "acc_log = round(logreg.score(X_train, Y_train) * 100, 2)\n",
    "acc_log"
   ]
  },
  {
   "cell_type": "markdown",
   "id": "7838dad2",
   "metadata": {},
   "source": [
    "### Gaussian Naive Bayes (NB)"
   ]
  },
  {
   "cell_type": "code",
   "execution_count": 31,
   "id": "832f0b0c",
   "metadata": {},
   "outputs": [
    {
     "data": {
      "text/plain": [
       "87.11"
      ]
     },
     "execution_count": 31,
     "metadata": {},
     "output_type": "execute_result"
    }
   ],
   "source": [
    "# NB\n",
    "\n",
    "gaussian = GaussianNB()\n",
    "gaussian.fit(X_train, Y_train)\n",
    "Y_pred = gaussian.predict(X_test)\n",
    "acc_gaussian = round(gaussian.score(X_test, Y_test) * 100, 2)\n",
    "acc_gaussian"
   ]
  },
  {
   "cell_type": "markdown",
   "id": "b8efa09f",
   "metadata": {},
   "source": [
    "### Decision Tree (DT)"
   ]
  },
  {
   "cell_type": "code",
   "execution_count": 32,
   "id": "6dbe309a",
   "metadata": {},
   "outputs": [
    {
     "data": {
      "text/plain": [
       "86.87"
      ]
     },
     "execution_count": 32,
     "metadata": {},
     "output_type": "execute_result"
    }
   ],
   "source": [
    "# DT\n",
    "\n",
    "decision_tree = DecisionTreeClassifier()\n",
    "decision_tree.fit(X_train, Y_train)\n",
    "Y_pred = decision_tree.predict(X_test)\n",
    "acc_decision_tree = round(decision_tree.score(X_test, Y_test) * 100, 2)\n",
    "acc_decision_tree"
   ]
  },
  {
   "cell_type": "markdown",
   "id": "adb1a275",
   "metadata": {},
   "source": [
    "### Random Forest (RF)"
   ]
  },
  {
   "cell_type": "code",
   "execution_count": 33,
   "id": "18e26202",
   "metadata": {},
   "outputs": [
    {
     "data": {
      "text/plain": [
       "93.33"
      ]
     },
     "execution_count": 33,
     "metadata": {},
     "output_type": "execute_result"
    }
   ],
   "source": [
    "# RF\n",
    "\n",
    "random_forest = RandomForestClassifier(n_estimators=100)\n",
    "random_forest.fit(X_train, Y_train)\n",
    "Y_pred = random_forest.predict(X_test)\n",
    "random_forest.score(X_train, Y_train)\n",
    "acc_random_forest = round(random_forest.score(X_test, Y_test) * 100, 2)\n",
    "acc_random_forest"
   ]
  },
  {
   "cell_type": "markdown",
   "id": "b96b85b3",
   "metadata": {},
   "source": [
    "### Support Vector Machines (SVM)"
   ]
  },
  {
   "cell_type": "code",
   "execution_count": 34,
   "id": "7e5933cc",
   "metadata": {},
   "outputs": [
    {
     "data": {
      "text/plain": [
       "92.32"
      ]
     },
     "execution_count": 34,
     "metadata": {},
     "output_type": "execute_result"
    }
   ],
   "source": [
    "#SVM\n",
    "svc = SVC()\n",
    "svc.fit(X_train, Y_train)\n",
    "Y_pred = svc.predict(X_test)\n",
    "acc_svc = round(svc.score(X_test, Y_test) * 100, 2)\n",
    "acc_svc"
   ]
  },
  {
   "cell_type": "markdown",
   "id": "e9d6faa1",
   "metadata": {},
   "source": [
    "### Scores wihtout considering Vehicle Information"
   ]
  },
  {
   "cell_type": "code",
   "execution_count": 35,
   "id": "0af8303f",
   "metadata": {},
   "outputs": [
    {
     "name": "stdout",
     "output_type": "stream",
     "text": [
      "Machine Learning algorithm scores without Vehicle Info\n"
     ]
    },
    {
     "data": {
      "text/html": [
       "<div>\n",
       "<style scoped>\n",
       "    .dataframe tbody tr th:only-of-type {\n",
       "        vertical-align: middle;\n",
       "    }\n",
       "\n",
       "    .dataframe tbody tr th {\n",
       "        vertical-align: top;\n",
       "    }\n",
       "\n",
       "    .dataframe thead th {\n",
       "        text-align: right;\n",
       "    }\n",
       "</style>\n",
       "<table border=\"1\" class=\"dataframe\">\n",
       "  <thead>\n",
       "    <tr style=\"text-align: right;\">\n",
       "      <th></th>\n",
       "      <th>Model</th>\n",
       "      <th>Score</th>\n",
       "    </tr>\n",
       "  </thead>\n",
       "  <tbody>\n",
       "    <tr>\n",
       "      <th>5</th>\n",
       "      <td>Support Vector Machines</td>\n",
       "      <td>92.48</td>\n",
       "    </tr>\n",
       "    <tr>\n",
       "      <th>2</th>\n",
       "      <td>Random Forest</td>\n",
       "      <td>92.00</td>\n",
       "    </tr>\n",
       "    <tr>\n",
       "      <th>1</th>\n",
       "      <td>Logistic Regression</td>\n",
       "      <td>91.55</td>\n",
       "    </tr>\n",
       "    <tr>\n",
       "      <th>0</th>\n",
       "      <td>KNN</td>\n",
       "      <td>90.16</td>\n",
       "    </tr>\n",
       "    <tr>\n",
       "      <th>4</th>\n",
       "      <td>Decision Tree</td>\n",
       "      <td>87.86</td>\n",
       "    </tr>\n",
       "    <tr>\n",
       "      <th>3</th>\n",
       "      <td>Naive Bayes</td>\n",
       "      <td>9.23</td>\n",
       "    </tr>\n",
       "  </tbody>\n",
       "</table>\n",
       "</div>"
      ],
      "text/plain": [
       "                     Model  Score\n",
       "5  Support Vector Machines  92.48\n",
       "2            Random Forest  92.00\n",
       "1      Logistic Regression  91.55\n",
       "0                      KNN  90.16\n",
       "4            Decision Tree  87.86\n",
       "3              Naive Bayes   9.23"
      ]
     },
     "execution_count": 35,
     "metadata": {},
     "output_type": "execute_result"
    }
   ],
   "source": [
    "print(\"Machine Learning algorithm scores without Vehicle Info\")\n",
    "models = pd.DataFrame({\n",
    "    'Model': ['KNN', 'Logistic Regression', \n",
    "              'Random Forest', 'Naive Bayes', \n",
    "              'Decision Tree','Support Vector Machines'],\n",
    "    'Score': [acc_knn1, acc_log1, \n",
    "              acc_random_forest1, acc_gaussian1,acc_decision_tree1,acc_svc1]})\n",
    "models.sort_values(by='Score', ascending=False)\n"
   ]
  },
  {
   "cell_type": "markdown",
   "id": "7f48097e",
   "metadata": {},
   "source": [
    "### Scores considering Vehicle Informaition"
   ]
  },
  {
   "cell_type": "code",
   "execution_count": 36,
   "id": "98c43293",
   "metadata": {},
   "outputs": [
    {
     "name": "stdout",
     "output_type": "stream",
     "text": [
      "Machine Learning algorithm scores with Vehicle Info\n"
     ]
    },
    {
     "data": {
      "text/html": [
       "<div>\n",
       "<style scoped>\n",
       "    .dataframe tbody tr th:only-of-type {\n",
       "        vertical-align: middle;\n",
       "    }\n",
       "\n",
       "    .dataframe tbody tr th {\n",
       "        vertical-align: top;\n",
       "    }\n",
       "\n",
       "    .dataframe thead th {\n",
       "        text-align: right;\n",
       "    }\n",
       "</style>\n",
       "<table border=\"1\" class=\"dataframe\">\n",
       "  <thead>\n",
       "    <tr style=\"text-align: right;\">\n",
       "      <th></th>\n",
       "      <th>Model</th>\n",
       "      <th>Score</th>\n",
       "    </tr>\n",
       "  </thead>\n",
       "  <tbody>\n",
       "    <tr>\n",
       "      <th>2</th>\n",
       "      <td>Random Forest</td>\n",
       "      <td>93.33</td>\n",
       "    </tr>\n",
       "    <tr>\n",
       "      <th>1</th>\n",
       "      <td>Logistic Regression</td>\n",
       "      <td>92.34</td>\n",
       "    </tr>\n",
       "    <tr>\n",
       "      <th>5</th>\n",
       "      <td>Support Vector Machines</td>\n",
       "      <td>92.32</td>\n",
       "    </tr>\n",
       "    <tr>\n",
       "      <th>0</th>\n",
       "      <td>KNN</td>\n",
       "      <td>90.81</td>\n",
       "    </tr>\n",
       "    <tr>\n",
       "      <th>3</th>\n",
       "      <td>Naive Bayes</td>\n",
       "      <td>87.11</td>\n",
       "    </tr>\n",
       "    <tr>\n",
       "      <th>4</th>\n",
       "      <td>Decision Tree</td>\n",
       "      <td>86.87</td>\n",
       "    </tr>\n",
       "  </tbody>\n",
       "</table>\n",
       "</div>"
      ],
      "text/plain": [
       "                     Model  Score\n",
       "2            Random Forest  93.33\n",
       "1      Logistic Regression  92.34\n",
       "5  Support Vector Machines  92.32\n",
       "0                      KNN  90.81\n",
       "3              Naive Bayes  87.11\n",
       "4            Decision Tree  86.87"
      ]
     },
     "execution_count": 36,
     "metadata": {},
     "output_type": "execute_result"
    }
   ],
   "source": [
    "print(\"Machine Learning algorithm scores with Vehicle Info\")\n",
    "models = pd.DataFrame({\n",
    "    'Model': ['KNN', 'Logistic Regression', \n",
    "              'Random Forest', 'Naive Bayes', \n",
    "              'Decision Tree','Support Vector Machines'],\n",
    "    'Score': [acc_knn, acc_log, \n",
    "              acc_random_forest, acc_gaussian,acc_decision_tree,acc_svc]})\n",
    "models.sort_values(by='Score', ascending=False)"
   ]
  },
  {
   "cell_type": "markdown",
   "id": "0a5361e9",
   "metadata": {},
   "source": [
    "The results showed that adding vehicle characteristics to a machine learning algorithm in forecasting accident severity had a minor  effect on model accuracy. The results show a high level of accuracy. Because this is a multilabel classification, the accuracy metric computes the number of labels predicted that perfectly match the associated set of labels.\n"
   ]
  },
  {
   "cell_type": "code",
   "execution_count": 37,
   "id": "653d62d1",
   "metadata": {
    "scrolled": true
   },
   "outputs": [
    {
     "name": "stdout",
     "output_type": "stream",
     "text": [
      "Confusion matrix: \n",
      " [[   0    0    2]\n",
      " [   0   31  330]\n",
      " [   0   67 4070]]\n",
      "Classification report: \n",
      "               precision    recall  f1-score   support\n",
      "\n",
      "           1       0.00      0.00      0.00         2\n",
      "           2       0.32      0.09      0.14       361\n",
      "           3       0.92      0.98      0.95      4137\n",
      "\n",
      "    accuracy                           0.91      4500\n",
      "   macro avg       0.41      0.36      0.36      4500\n",
      "weighted avg       0.88      0.91      0.89      4500\n",
      "\n"
     ]
    },
    {
     "data": {
      "text/plain": [
       "3    4137\n",
       "2     361\n",
       "1       2\n",
       "Name: accident_severity, dtype: int64"
      ]
     },
     "execution_count": 37,
     "metadata": {},
     "output_type": "execute_result"
    }
   ],
   "source": [
    "# Confusion matrix with random forest\n",
    "from sklearn.metrics import classification_report, confusion_matrix\n",
    "x,y = ds1.loc[:,ds1.columns != 'accident_severity'], ds1.loc[:,'accident_severity']\n",
    "x_train,x_test,y_train,y_test = train_test_split(x,y,test_size = 0.3,random_state = 1)\n",
    "rf = RandomForestClassifier(random_state = 3)\n",
    "rf.fit(x_train,y_train)\n",
    "y_pred = rf.predict(x_test)\n",
    "cm = confusion_matrix(y_test,y_pred)\n",
    "print('Confusion matrix: \\n',cm)\n",
    "print('Classification report: \\n',classification_report(y_test,y_pred))\n",
    "y_test.value_counts()"
   ]
  },
  {
   "cell_type": "code",
   "execution_count": 38,
   "id": "32e724ec",
   "metadata": {},
   "outputs": [
    {
     "name": "stdout",
     "output_type": "stream",
     "text": [
      "Confusion matrix: \n",
      " [[   4    0   24]\n",
      " [   0   54  290]\n",
      " [   1    6 4121]]\n",
      "Classification report: \n",
      "               precision    recall  f1-score   support\n",
      "\n",
      "           1       0.80      0.14      0.24        28\n",
      "           2       0.90      0.16      0.27       344\n",
      "           3       0.93      1.00      0.96      4128\n",
      "\n",
      "    accuracy                           0.93      4500\n",
      "   macro avg       0.88      0.43      0.49      4500\n",
      "weighted avg       0.93      0.93      0.90      4500\n",
      "\n"
     ]
    },
    {
     "data": {
      "text/plain": [
       "3    4128\n",
       "2     344\n",
       "1      28\n",
       "Name: accident_severity, dtype: int64"
      ]
     },
     "execution_count": 38,
     "metadata": {},
     "output_type": "execute_result"
    }
   ],
   "source": [
    "# Confusion matrix with random forest of ds2\n",
    "from sklearn.metrics import classification_report, confusion_matrix\n",
    "x,y = ds2.loc[:,ds2.columns != 'accident_severity'], ds2.loc[:,'accident_severity']\n",
    "x_train,x_test,y_train,y_test = train_test_split(x,y,test_size = 0.3,random_state = 1)\n",
    "rf = RandomForestClassifier(random_state = 3)\n",
    "rf.fit(x_train,y_train)\n",
    "y_pred = rf.predict(x_test)\n",
    "cm = confusion_matrix(y_test,y_pred)\n",
    "print('Confusion matrix: \\n',cm)\n",
    "print('Classification report: \\n',classification_report(y_test,y_pred))\n",
    "y_test.value_counts()"
   ]
  },
  {
   "cell_type": "markdown",
   "id": "209e90d1",
   "metadata": {},
   "source": [
    "Although nearly all of the predictions would concern the majority class, a model may forecast the value of the majority class for all predictions and produce a high accuracy, except naïve base.  When the classes are severely unbalanced, precision-recall is a helpful indicator of prediction success. Precision measures the relevance of the results, whereas recall measures how many really relevant items are returned. Another statistic is the F1 score, which is a measure of the correctness of a test. When calculating the score, it takes into account the test's precision p and recall r and delivers a result that strikes a balance between the two."
   ]
  },
  {
   "cell_type": "code",
   "execution_count": 39,
   "id": "a9a71d32",
   "metadata": {},
   "outputs": [
    {
     "data": {
      "image/png": "[encoded data removed]",
      "text/plain": [
       "<Figure size 432x288 with 2 Axes>"
      ]
     },
     "metadata": {},
     "output_type": "display_data"
    }
   ],
   "source": [
    "sns.heatmap(cm,annot=True,fmt=\"d\") \n",
    "plt.show()"
   ]
  },
  {
   "cell_type": "markdown",
   "id": "9075bfb2",
   "metadata": {},
   "source": [
    "## CONCLUSION"
   ]
  },
  {
   "cell_type": "markdown",
   "id": "1b9aad22",
   "metadata": {},
   "source": [
    "It is noticeable that adding car information, such as vehicle type, engine capacity(cc), and age of vehicle improves accuracy, as most algorithms perform well.\n",
    "The random forest model increased by 1.34 points over its prior score of 91.94, which did not account for vehicle features.\n",
    "When the classes are highly unbalanced, precision-recall is a good metric of prediction success. Precision measures the relevance of the results, whereas recall measures how many really relevant items are returned.\n",
    "In conclusion it is observed that the vehicle parameter do contribute to predict the severity of the accident ."
   ]
  }
 ],
 "metadata": {
  "kernelspec": {
   "display_name": "Python 3 (ipykernel)",
   "language": "python",
   "name": "python3"
  },
  "language_info": {
   "codemirror_mode": {
    "name": "ipython",
    "version": 3
   },
   "file_extension": ".py",
   "mimetype": "text/x-python",
   "name": "python",
   "nbconvert_exporter": "python",
   "pygments_lexer": "ipython3",
   "version": "3.9.7"
  }
 },
 "nbformat": 4,
 "nbformat_minor": 5
}
